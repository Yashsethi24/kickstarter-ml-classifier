{
  "nbformat": 4,
  "nbformat_minor": 0,
  "metadata": {
    "colab": {
      "provenance": [],
      "authorship_tag": "ABX9TyMV8s+2y485S2c/gy8RY/Um",
      "include_colab_link": true
    },
    "kernelspec": {
      "name": "python3",
      "display_name": "Python 3"
    },
    "language_info": {
      "name": "python"
    }
  },
  "cells": [
    {
      "cell_type": "markdown",
      "metadata": {
        "id": "view-in-github",
        "colab_type": "text"
      },
      "source": [
        "<a href=\"https://colab.research.google.com/github/Yashsethi24/INSY_Individual_Project/blob/main/INSY_661_Individual_Project.ipynb\" target=\"_parent\"><img src=\"https://colab.research.google.com/assets/colab-badge.svg\" alt=\"Open In Colab\"/></a>"
      ]
    },
    {
      "cell_type": "code",
      "execution_count": 1,
      "metadata": {
        "colab": {
          "base_uri": "https://localhost:8080/",
          "height": 176
        },
        "id": "kiwjRNx9C2l9",
        "outputId": "fa2924bc-a577-44d5-b2c4-cd73a2b9fde0"
      },
      "outputs": [
        {
          "output_type": "error",
          "ename": "NameError",
          "evalue": "name 'pandas' is not defined",
          "traceback": [
            "\u001b[0;31m---------------------------------------------------------------------------\u001b[0m",
            "\u001b[0;31mNameError\u001b[0m                                 Traceback (most recent call last)",
            "\u001b[0;32m<ipython-input-1-c99296fd34e0>\u001b[0m in \u001b[0;36m<cell line: 10>\u001b[0;34m()\u001b[0m\n\u001b[1;32m      8\u001b[0m \u001b[0;34m\u001b[0m\u001b[0m\n\u001b[1;32m      9\u001b[0m \u001b[0;31m# Import data\u001b[0m\u001b[0;34m\u001b[0m\u001b[0;34m\u001b[0m\u001b[0m\n\u001b[0;32m---> 10\u001b[0;31m \u001b[0mkickstarter_df\u001b[0m \u001b[0;34m=\u001b[0m \u001b[0mpandas\u001b[0m\u001b[0;34m.\u001b[0m\u001b[0mread_excel\u001b[0m\u001b[0;34m(\u001b[0m\u001b[0;34m\"Kickstarter.xlsx\"\u001b[0m\u001b[0;34m)\u001b[0m\u001b[0;34m\u001b[0m\u001b[0;34m\u001b[0m\u001b[0m\n\u001b[0m",
            "\u001b[0;31mNameError\u001b[0m: name 'pandas' is not defined"
          ]
        }
      ],
      "source": [
        "## Developing the model ###\n",
        "\n",
        "# Load Libraries\n",
        "from sklearn.tree import DecisionTreeClassifier\n",
        "import pandas as pd\n",
        "pd.set_option('display.max_columns', None)\n",
        "pd.set_option('display.max_rows', None)\n",
        "\n",
        "# Import data\n",
        "kickstarter_df = pandas.read_excel(\"Kickstarter.xlsx\")"
      ]
    },
    {
      "cell_type": "code",
      "source": [
        "!pip install pandas"
      ],
      "metadata": {
        "id": "XxlihVPjJdqz"
      },
      "execution_count": null,
      "outputs": []
    },
    {
      "cell_type": "markdown",
      "source": [
        "# Pre-Processing"
      ],
      "metadata": {
        "id": "hClWruBkNLhZ"
      }
    },
    {
      "cell_type": "code",
      "source": [
        "kickstarter_df = kickstarter_df.dropna()\n",
        "\n",
        "# Looking at different values of \"state\"\n",
        "kickstarter_df['state'].value_counts()\n",
        "\n",
        "# Keeping the rows where state is successful or failed else drop\n",
        "kickstarter_df = kickstarter_df[kickstarter_df['state'].isin(['successful', 'failed'])]\n",
        "\n",
        "kickstarter_df['state'] = kickstarter_df['state'].apply(lambda x: 1 if x=='successful' else 0)"
      ],
      "metadata": {
        "id": "aPthjOzwGVlr"
      },
      "execution_count": null,
      "outputs": []
    },
    {
      "cell_type": "code",
      "source": [
        "kickstarter_df.shape"
      ],
      "metadata": {
        "id": "cWY-8PKTDQe8"
      },
      "execution_count": null,
      "outputs": []
    },
    {
      "cell_type": "markdown",
      "source": [
        "# EDA"
      ],
      "metadata": {
        "id": "SZ14XuEXNd2-"
      }
    },
    {
      "cell_type": "code",
      "source": [
        "# View the distribution of 'goal' values for each state\n",
        "kickstarter_df.groupby('state')['goal'].describe()"
      ],
      "metadata": {
        "id": "WwOoSgR_IPx2"
      },
      "execution_count": null,
      "outputs": []
    },
    {
      "cell_type": "code",
      "source": [
        "# View the distribution of 'pledged' values for each state\n",
        "kickstarter_df.groupby('state')['pledged'].describe()"
      ],
      "metadata": {
        "id": "QDup913YIjtG"
      },
      "execution_count": null,
      "outputs": []
    },
    {
      "cell_type": "code",
      "source": [
        "# Checking distribution of \"disable_communication\"\n",
        "kickstarter_df['disable_communication'].value_counts()"
      ],
      "metadata": {
        "id": "TEyMqVEFJmeF"
      },
      "execution_count": null,
      "outputs": []
    },
    {
      "cell_type": "markdown",
      "source": [
        "Since the column \"disable_communication\" has only one unique value, this is not informative about the final state and hence can be dropped."
      ],
      "metadata": {
        "id": "Vgo7M3cGJvtN"
      }
    },
    {
      "cell_type": "code",
      "source": [
        "# Dropping column \"disable_communication\"\n",
        "kickstarter_df = kickstarter_df.drop(['disable_communication'], axis=1)"
      ],
      "metadata": {
        "id": "tr2fB5L0J-om"
      },
      "execution_count": null,
      "outputs": []
    },
    {
      "cell_type": "code",
      "source": [
        "kickstarter_df['country'].value_counts().shape"
      ],
      "metadata": {
        "id": "FCSRx8hcKIMC"
      },
      "execution_count": null,
      "outputs": []
    },
    {
      "cell_type": "code",
      "source": [
        "# Checking value counts of currency\n",
        "print(kickstarter_df['currency'].value_counts())"
      ],
      "metadata": {
        "id": "vtCNcq54Kfyp"
      },
      "execution_count": null,
      "outputs": []
    },
    {
      "cell_type": "code",
      "source": [
        "# View the distribution of 'state' values for each country\n",
        "kickstarter_df.groupby('country')['state'].value_counts().head(10)"
      ],
      "metadata": {
        "id": "Q7OYbatmKS8B"
      },
      "execution_count": null,
      "outputs": []
    },
    {
      "cell_type": "code",
      "source": [
        "\n",
        "# Minimum deadline\n",
        "min_deadline = kickstarter_df['deadline'].min()\n",
        "print(f\"Minimum Deadline: {min_deadline}\")\n",
        "\n",
        "# Maximum deadline\n",
        "max_deadline = kickstarter_df['deadline'].max()\n",
        "print(f\"Maximum Deadline: {max_deadline}\")\n",
        "\n",
        "# Example: Count the number of projects with deadlines in each year\n",
        "kickstarter_df['deadline_year'] = kickstarter_df['deadline'].dt.year\n",
        "deadline_distribution = kickstarter_df['deadline_year'].value_counts().sort_index()\n",
        "print(\"\\nDistribution of Deadlines by Year:\")\n",
        "deadline_distribution"
      ],
      "metadata": {
        "id": "68sRVtgqLIIB"
      },
      "execution_count": null,
      "outputs": []
    },
    {
      "cell_type": "code",
      "source": [
        "# Group by 'deadline_year' and 'state', then count the occurrences\n",
        "state_by_year = kickstarter_df.groupby(['deadline_year', 'state'])['state'].count().unstack()\n",
        "\n",
        "# Display the distribution\n",
        "print(\"\\nDistribution of State by Year:\")\n",
        "state_by_year"
      ],
      "metadata": {
        "id": "zi4rw9yaLIEz"
      },
      "execution_count": null,
      "outputs": []
    },
    {
      "cell_type": "code",
      "source": [
        "# Calculate the difference between 'state_changed_at' and 'deadline' in days\n",
        "kickstarter_df['deadline'] = pd.to_datetime(kickstarter_df['deadline'])\n",
        "kickstarter_df['state_changed_at'] = pd.to_datetime(kickstarter_df['state_changed_at'])\n",
        "\n",
        "kickstarter_df['time_diff'] = (kickstarter_df['state_changed_at'] - kickstarter_df['deadline']).dt.days\n",
        "\n",
        "# Display the value counts of the difference\n",
        "print(kickstarter_df['time_diff'].value_counts())"
      ],
      "metadata": {
        "id": "4omOOnuOLH6R"
      },
      "execution_count": null,
      "outputs": []
    },
    {
      "cell_type": "markdown",
      "source": [
        "We will assume that the **state changed date** represents the **decision date**, which indicates when the outcome of the project—whether it was successful or not—was determined. (Since the state changed date is same as deadline.)"
      ],
      "metadata": {
        "id": "sNa9_8zIWTFR"
      }
    },
    {
      "cell_type": "code",
      "source": [
        "# Number of projects by year\n",
        "project_counts_by_year = kickstarter_df.groupby(kickstarter_df['created_at'].dt.year)['created_at'].count()\n",
        "print(\"\\nNumber of projects by year (based on created_at):\")\n",
        "print(project_counts_by_year)"
      ],
      "metadata": {
        "id": "E1ONtTlxLH22"
      },
      "execution_count": null,
      "outputs": []
    },
    {
      "cell_type": "code",
      "source": [
        "# Group by 'created_at' and 'state', then count the occurrences\n",
        "created_state_counts = kickstarter_df.groupby([kickstarter_df['created_at'].dt.year, 'state'])['state'].count().unstack()\n",
        "\n",
        "# Display the distribution\n",
        "print(\"\\nDistribution of State by Created Year:\")\n",
        "created_state_counts"
      ],
      "metadata": {
        "id": "f7k6RHX-XZgH"
      },
      "execution_count": null,
      "outputs": []
    },
    {
      "cell_type": "code",
      "source": [
        "# Number of projects by year\n",
        "project_counts_by_year = kickstarter_df.groupby(kickstarter_df['launched_at'].dt.year)['launched_at'].count()\n",
        "print(\"\\nNumber of projects by year (based on launched_at):\")\n",
        "print(project_counts_by_year)"
      ],
      "metadata": {
        "id": "ZglRVBCUXZYH"
      },
      "execution_count": null,
      "outputs": []
    },
    {
      "cell_type": "code",
      "source": [
        "# Group by 'created_at' and 'state', then count the occurrences\n",
        "created_state_counts = kickstarter_df.groupby([kickstarter_df['launched_at'].dt.year, 'state'])['state'].count().unstack()\n",
        "\n",
        "# Display the distribution\n",
        "print(\"\\nDistribution of State by Created Year:\")\n",
        "created_state_counts"
      ],
      "metadata": {
        "id": "OY4wZKO6XZUf"
      },
      "execution_count": null,
      "outputs": []
    },
    {
      "cell_type": "code",
      "source": [
        "# Calculate the difference between 'launched_at' and 'created_at' in months\n",
        "kickstarter_df['launched_at'] = pd.to_datetime(kickstarter_df['launched_at'])\n",
        "kickstarter_df['created_at'] = pd.to_datetime(kickstarter_df['created_at'])\n",
        "kickstarter_df['months_diff'] = (kickstarter_df['launched_at'] - kickstarter_df['created_at']).dt.days / 30\n",
        "\n",
        "# Create month difference buckets\n",
        "bins = [0, 1, 3, 6, 12, float('inf')]\n",
        "labels = ['0-1 Month', '1-3 Months', '3-6 Months', '6-12 Months', '12+ Months']\n",
        "kickstarter_df['months_diff_buckets'] = pd.cut(kickstarter_df['months_diff'], bins=bins, labels=labels, right=False)\n",
        "\n",
        "# Display value counts without ordering\n",
        "kickstarter_df['months_diff_buckets'].value_counts(sort=False)"
      ],
      "metadata": {
        "id": "U7YIEmJQXZPj"
      },
      "execution_count": null,
      "outputs": []
    },
    {
      "cell_type": "code",
      "source": [
        "# Group by 'months_diff_buckets' and 'country', then count the occurrences of each state\n",
        "state_by_month_country = kickstarter_df.groupby(['months_diff_buckets'])['state'].value_counts().unstack()\n",
        "\n",
        "# Display the distribution\n",
        "print(\"\\nDistribution of State by Month Difference Buckets and Country:\")\n",
        "state_by_month_country"
      ],
      "metadata": {
        "id": "nNXXKK-kaosW"
      },
      "execution_count": null,
      "outputs": []
    },
    {
      "cell_type": "code",
      "source": [
        "kickstarter_df['months_diff'].describe()"
      ],
      "metadata": {
        "id": "NXz5GH3IXZKC"
      },
      "execution_count": null,
      "outputs": []
    },
    {
      "cell_type": "code",
      "source": [
        "# Check if 'spotlight' column exists in your DataFrame\n",
        "if 'spotlight' in kickstarter_df.columns:\n",
        "    unsuccessful_spotlight_projects = kickstarter_df[(kickstarter_df['state'] == 0) & (kickstarter_df['spotlight'] == 1)]\n",
        "    if not unsuccessful_spotlight_projects.empty:\n",
        "        print(\"Unsuccessful projects in spotlight:\")\n",
        "        print(unsuccessful_spotlight_projects)\n",
        "    else:\n",
        "        print(\"No unsuccessful projects found in the spotlight.\")\n",
        "else:\n",
        "    print(\"The column 'spotlight' does not exist in the DataFrame.\")"
      ],
      "metadata": {
        "id": "YrTJH1VZg_NB"
      },
      "execution_count": null,
      "outputs": []
    },
    {
      "cell_type": "markdown",
      "source": [
        "\"Spotlight\" is a future column, hence needs to be dropped."
      ],
      "metadata": {
        "id": "MyZZ9HRfhSuO"
      }
    },
    {
      "cell_type": "code",
      "source": [
        "# prompt: check the distribution of name_len by state\n",
        "\n",
        "import pandas as pd\n",
        "import matplotlib.pyplot as plt\n",
        "import seaborn as sns\n",
        "\n",
        "# Alternative way to visualize: Box plots\n",
        "plt.figure(figsize=(12, 6))\n",
        "sns.boxplot(x='state', y='name_len', data=kickstarter_df)\n",
        "plt.title('Distribution of Name Length by State (Box Plot)')\n",
        "plt.xlabel('State')\n",
        "plt.ylabel('Name Length')\n",
        "plt.show()"
      ],
      "metadata": {
        "id": "pXtgVIB1g_Kt"
      },
      "execution_count": null,
      "outputs": []
    },
    {
      "cell_type": "code",
      "source": [
        "# prompt: check the distribution of name_len_clean by state\n",
        "\n",
        "import pandas as pd\n",
        "import matplotlib.pyplot as plt\n",
        "import seaborn as sns\n",
        "\n",
        "# Alternative way to visualize: Box plots\n",
        "plt.figure(figsize=(12, 6))\n",
        "sns.boxplot(x='state', y='name_len_clean', data=kickstarter_df)\n",
        "plt.title('Distribution of Clean Name Length by State (Box Plot)')\n",
        "plt.xlabel('State')\n",
        "plt.ylabel('Clean Name Length')\n",
        "plt.show()"
      ],
      "metadata": {
        "id": "y6oOcx0hg_JV"
      },
      "execution_count": null,
      "outputs": []
    },
    {
      "cell_type": "code",
      "source": [
        "# prompt: check the distribution of blurb_len by state\n",
        "\n",
        "import pandas as pd\n",
        "import matplotlib.pyplot as plt\n",
        "import seaborn as sns\n",
        "\n",
        "# Alternative way to visualize: Box plots\n",
        "plt.figure(figsize=(12, 6))\n",
        "sns.boxplot(x='state', y='blurb_len', data=kickstarter_df)\n",
        "plt.title('Distribution of Blurb Length by State (Box Plot)')\n",
        "plt.xlabel('State')\n",
        "plt.ylabel('Clean Name Length')\n",
        "plt.show()"
      ],
      "metadata": {
        "id": "2BTIHk_7g_Ic"
      },
      "execution_count": null,
      "outputs": []
    },
    {
      "cell_type": "code",
      "source": [
        "# prompt: check the distribution of blurb_len_clean by state\n",
        "\n",
        "import pandas as pd\n",
        "import matplotlib.pyplot as plt\n",
        "import seaborn as sns\n",
        "\n",
        "# Alternative way to visualize: Box plots\n",
        "plt.figure(figsize=(12, 6))\n",
        "sns.boxplot(x='state', y='blurb_len_clean', data=kickstarter_df)\n",
        "plt.title('Distribution of Clean Blurb Length by State (Box Plot)')\n",
        "plt.xlabel('State')\n",
        "plt.ylabel('Clean Name Length')\n",
        "plt.show()"
      ],
      "metadata": {
        "id": "qghOenMpg_Fd"
      },
      "execution_count": null,
      "outputs": []
    },
    {
      "cell_type": "code",
      "source": [
        "# Convert 'deadline' to datetime if it's not already\n",
        "kickstarter_df['deadline'] = pd.to_datetime(kickstarter_df['deadline'])\n",
        "\n",
        "# Extract the weekday from the 'deadline' column\n",
        "kickstarter_df['deadline_weekday'] = kickstarter_df['deadline'].dt.dayofweek # Monday=0, Sunday=6\n",
        "\n",
        "# Group by deadline weekday and state, then calculate the percentage\n",
        "weekday_state_percentage = kickstarter_df.groupby('deadline_weekday')['state'].value_counts(normalize=True) * 100\n",
        "\n",
        "# Display the percentage distribution\n",
        "weekday_state_percentage"
      ],
      "metadata": {
        "id": "1WoG5NxImzdA"
      },
      "execution_count": null,
      "outputs": []
    },
    {
      "cell_type": "code",
      "source": [
        "kickstarter_df['time_to_launch'].head()"
      ],
      "metadata": {
        "id": "8xYmEycsP0q2"
      },
      "execution_count": null,
      "outputs": []
    },
    {
      "cell_type": "code",
      "source": [
        "kickstarter_df.columns"
      ],
      "metadata": {
        "id": "OjQ6cYwQpQrQ"
      },
      "execution_count": null,
      "outputs": []
    },
    {
      "cell_type": "code",
      "source": [
        "list_dist = [ 'staff_pick',\n",
        "       'created_at_weekday', 'launched_at_weekday', 'deadline_month',\n",
        "       'deadline_day', 'deadline_yr', 'deadline_hr',\n",
        "       'created_at_month', 'created_at_day', 'created_at_yr', 'created_at_hr',\n",
        "       'launched_at_month', 'launched_at_day', 'launched_at_yr',\n",
        "       'launched_at_hr', 'main_category', 'staff_pick.1', 'show_feature_image',\n",
        "       'video']\n",
        "\n",
        "for column in list_dist:\n",
        "  # Group by deadline weekday and state, then calculate the percentage\n",
        "  state_percentage = kickstarter_df.groupby(column)['state'].value_counts(normalize=True) * 100\n",
        "\n",
        "  # Display the percentage distribution\n",
        "  print(state_percentage)"
      ],
      "metadata": {
        "id": "yCP1m9SlmzZc"
      },
      "execution_count": null,
      "outputs": []
    },
    {
      "cell_type": "code",
      "source": [
        "kickstarter_df['show_feature_image'].value_counts()"
      ],
      "metadata": {
        "id": "slO2QlDKmzVN"
      },
      "execution_count": null,
      "outputs": []
    },
    {
      "cell_type": "code",
      "source": [
        "# Dropping column staff_pick.1 and staff_pick since they are future information\n",
        "kickstarter_df = kickstarter_df.drop(['staff_pick.1', 'staff_pick'], axis=1)"
      ],
      "metadata": {
        "id": "kZPjM7hn7arE"
      },
      "execution_count": null,
      "outputs": []
    },
    {
      "cell_type": "code",
      "source": [
        "kickstarter_df['main_category'].value_counts()"
      ],
      "metadata": {
        "id": "6Tnu3Vo970e6"
      },
      "execution_count": null,
      "outputs": []
    },
    {
      "cell_type": "code",
      "source": [
        "#  Drop unneccesary predictors\n",
        "kickstarter_df = kickstarter_df.drop(columns=['state_changed_at_month',\n",
        "       'state_changed_at_day', 'state_changed_at_yr', 'state_changed_at_hr','time_diff'], errors='ignore')\n"
      ],
      "metadata": {
        "id": "iizYL2g_70Y5"
      },
      "execution_count": null,
      "outputs": []
    },
    {
      "cell_type": "code",
      "source": [
        "# Drop predictors obtained after project is launched\n",
        "kickstarter_df = kickstarter_df.drop(columns=['backers_count','pledged','spotlight'])"
      ],
      "metadata": {
        "id": "wbvvxu1ABoou"
      },
      "execution_count": null,
      "outputs": []
    },
    {
      "cell_type": "code",
      "source": [
        "kickstarter_df['goal_usd'] = kickstarter_df['static_usd_rate'] * kickstarter_df['goal']"
      ],
      "metadata": {
        "id": "DYna2UbUCoge"
      },
      "execution_count": null,
      "outputs": []
    },
    {
      "cell_type": "code",
      "source": [
        "# Drop unneccesary predictors\n",
        "kickstarter_df = kickstarter_df.drop(columns=['id', 'name','currency','name_len_clean','name_len','goal', 'static_usd_rate','usd_pledged','months_diff_bucket'])"
      ],
      "metadata": {
        "id": "64E7HhHmEw_Q"
      },
      "execution_count": null,
      "outputs": []
    },
    {
      "cell_type": "code",
      "source": [
        "kickstarter_df.info()"
      ],
      "metadata": {
        "id": "qkPGO3SSHDFm"
      },
      "execution_count": null,
      "outputs": []
    },
    {
      "cell_type": "code",
      "source": [
        "# Dummify variables - Part 1\n",
        "kickstarter_df = pandas.get_dummies(kickstarter_df)\n",
        "# Dummify variables - Part 2\n",
        "kickstarter_df = pandas.get_dummies(kickstarter_df, columns = ['deadline_month','deadline_day','deadline_yr','deadline_hr'])\n",
        "# Dummify variables - Part 3\n",
        "kickstarter_df = pandas.get_dummies(kickstarter_df, columns = ['created_at_month','created_at_day','created_at_yr','created_at_hr'])\n",
        "# Dummify variables - Part 4\n",
        "kickstarter_df = pandas.get_dummies(kickstarter_df, columns = ['launched_at_month','launched_at_day','launched_at_yr','launched_at_hr'])\n"
      ],
      "metadata": {
        "id": "uTN49MzDIW7J"
      },
      "execution_count": null,
      "outputs": []
    },
    {
      "cell_type": "code",
      "source": [
        "\n",
        "##############################################################################\n",
        "# Feature Selection\n",
        "X = kickstarter_df.loc[:, kickstarter_df.columns != 'state']\n",
        "y = kickstarter_df['state']\n"
      ],
      "metadata": {
        "id": "1laI9P7nIYo1"
      },
      "execution_count": null,
      "outputs": []
    },
    {
      "cell_type": "code",
      "source": [
        "# Get a list of columns with non-numeric data types\n",
        "cols_to_drop = [col for col in kickstarter_df.columns\n",
        "                if not pd.api.types.is_numeric_dtype(kickstarter_df[col])]\n",
        "\n",
        "# Drop the columns\n",
        "kickstarter_df = kickstarter_df.drop(columns=cols_to_drop, errors='ignore')"
      ],
      "metadata": {
        "id": "f5c4-NWVIwa2"
      },
      "execution_count": null,
      "outputs": []
    },
    {
      "cell_type": "code",
      "source": [
        "kickstarter_df.info()"
      ],
      "metadata": {
        "id": "hx4lrc-RIjBy"
      },
      "execution_count": null,
      "outputs": []
    },
    {
      "cell_type": "markdown",
      "source": [
        "# Anomalies detection"
      ],
      "metadata": {
        "id": "D3AYD2P_eWmU"
      }
    },
    {
      "cell_type": "code",
      "source": [
        "# Removing anomalies with Isolation Forest\n",
        "\n",
        "# Create isolation forest model\n",
        "# Contamination parameter of 0.05 to get ~700 (~5%) of total anomalies (14214)\n",
        "from sklearn.ensemble import IsolationForest\n",
        "iforest = IsolationForest(n_estimators=100, contamination=.05, random_state = 5)\n",
        "pred = iforest.fit_predict(kickstarter_df)\n",
        "score = iforest.decision_function(kickstarter_df)"
      ],
      "metadata": {
        "id": "JMLI5uMiIcaM"
      },
      "execution_count": null,
      "outputs": []
    },
    {
      "cell_type": "code",
      "source": [
        "# Extracting anomalies\n",
        "from numpy import where\n",
        "anom_index = where(pred==-1)\n",
        "values = kickstarter_df.iloc[anom_index]\n",
        "\n",
        "# Remove anomalies from dataset\n",
        "kickstarter_df = pd.concat([kickstarter_df, values, values]).drop_duplicates(keep=False)\n",
        "X = kickstarter_df.loc[:, kickstarter_df.columns != 'state']\n",
        "y = kickstarter_df['state']"
      ],
      "metadata": {
        "id": "vJhoJAygI4eZ"
      },
      "execution_count": null,
      "outputs": []
    },
    {
      "cell_type": "markdown",
      "source": [
        "# Feature Selection"
      ],
      "metadata": {
        "id": "yQA8xRgreZ5G"
      }
    },
    {
      "cell_type": "code",
      "source": [
        "from sklearn.ensemble import RandomForestClassifier\n",
        "randomforest = RandomForestClassifier(random_state = 5)\n",
        "model_classifier = randomforest.fit(X, y)\n",
        "\n",
        "from sklearn.feature_selection import SelectFromModel\n",
        "sfm = SelectFromModel(model_classifier)\n",
        "sfm.fit(X, y)\n",
        "coef_rf = pd.DataFrame(list(zip(X.columns,model_classifier.feature_importances_)), columns = ['predictor','Gini_coefficient']).sort_values('Gini_coefficient',ascending = False)\n",
        "coef_rf.head(10)"
      ],
      "metadata": {
        "id": "vUcmYcYiI4a9"
      },
      "execution_count": null,
      "outputs": []
    },
    {
      "cell_type": "code",
      "source": [
        "relevant_predictors = coef_rf[coef_rf['Gini_coefficient']>0.0025].predictor.values"
      ],
      "metadata": {
        "id": "I-M72iF9JlnO"
      },
      "execution_count": null,
      "outputs": []
    },
    {
      "cell_type": "code",
      "source": [
        "relevant_predictors"
      ],
      "metadata": {
        "id": "sU1Rj2lMJ4li"
      },
      "execution_count": null,
      "outputs": []
    },
    {
      "cell_type": "code",
      "source": [
        "X = X[relevant_predictors]\n",
        "\n",
        "##############################################################################\n",
        "# Split the data\n",
        "from sklearn.model_selection import train_test_split\n",
        "X_train,X_test,y_train,y_test = train_test_split(X, y, test_size = 0.33, random_state = 5)"
      ],
      "metadata": {
        "id": "30k0LaxiI4Q8"
      },
      "execution_count": null,
      "outputs": []
    },
    {
      "cell_type": "markdown",
      "source": [
        "# Decision Tree Classifier"
      ],
      "metadata": {
        "id": "4KinOGu0eSAU"
      }
    },
    {
      "cell_type": "code",
      "source": [
        "# prompt: create a decision tree classifier with multiple hyperparameters and using cross validation to get the optimal parameters\n",
        "\n",
        "import pandas\n",
        "from sklearn.tree import DecisionTreeClassifier\n",
        "from sklearn.model_selection import GridSearchCV, train_test_split\n",
        "from sklearn.metrics import accuracy_score\n",
        "\n",
        "# Assuming X and y are defined from the previous code\n",
        "# ... (Your existing code for data loading and preprocessing) ...\n",
        "\n",
        "# Define the parameter grid for DecisionTreeClassifier\n",
        "param_grid = {\n",
        "    'criterion': ['gini', 'entropy'],\n",
        "    'max_depth': [None, 10, 20, 30],\n",
        "    'min_samples_split': [2, 5, 10],\n",
        "    'min_samples_leaf': [1, 2, 4]\n",
        "}\n",
        "\n",
        "# Create the DecisionTreeClassifier\n",
        "dtree = DecisionTreeClassifier(random_state=5)\n",
        "\n",
        "# Create the GridSearchCV object\n",
        "grid_search = GridSearchCV(dtree, param_grid, cv=5, scoring='accuracy') # 5-fold cross-validation\n",
        "\n",
        "# Fit the GridSearchCV object to the training data\n",
        "grid_search.fit(X_train, y_train)\n",
        "\n",
        "# Print the best hyperparameters and best score\n",
        "print(\"Best hyperparameters:\", grid_search.best_params_)\n",
        "print(\"Best cross-validation score:\", grid_search.best_score_)\n",
        "\n",
        "\n",
        "# Evaluate the model on the testing set\n",
        "best_dtree = grid_search.best_estimator_\n",
        "y_pred = best_dtree.predict(X_test)\n",
        "test_accuracy = accuracy_score(y_test, y_pred)\n",
        "print(\"Test Accuracy:\", test_accuracy)"
      ],
      "metadata": {
        "id": "NSbtYcU7dQYO"
      },
      "execution_count": null,
      "outputs": []
    },
    {
      "cell_type": "code",
      "source": [
        "\n",
        "# Run Decision Tree\n",
        "from sklearn.tree import DecisionTreeClassifier\n",
        "cart = DecisionTreeClassifier(random_state=5, max_depth = 10)\n",
        "model1 = cart.fit(X_train,y_train)\n",
        "\n",
        "# Using the model to predict the results based on the test dataset\n",
        "y_test_pred = model1.predict(X_test)\n",
        "\n",
        "from sklearn import metrics\n",
        "accuracy1 = metrics.accuracy_score(y_test, y_test_pred)\n",
        "precision1 = metrics.precision_score(y_test, y_test_pred)\n",
        "recall1 = metrics.recall_score(y_test, y_test_pred)\n",
        "f11 = metrics.f1_score(y_test, y_test_pred)\n",
        "\n",
        "summary1 = pandas.DataFrame(list(zip(['Accuracy', 'Precision', 'Recall', 'F1'],[accuracy1, precision1, recall1, f11])), columns = ['Metric','Score'])\n",
        "print(summary1)"
      ],
      "metadata": {
        "id": "o0xEEjIgJ_xH"
      },
      "execution_count": null,
      "outputs": []
    },
    {
      "cell_type": "code",
      "source": [
        "print(\"Accuracy:\", accuracy1)\n",
        "print(\"Precision:\", precision1)\n",
        "print(\"Recall:\", recall1)\n",
        "print(\"F1 Score:\", f11)"
      ],
      "metadata": {
        "id": "URLcjh2Qdz6E"
      },
      "execution_count": null,
      "outputs": []
    },
    {
      "cell_type": "markdown",
      "source": [
        "# Random Forest Classifier"
      ],
      "metadata": {
        "id": "vUPDWzyHeOLL"
      }
    },
    {
      "cell_type": "code",
      "source": [
        "# prompt: create a random forest classifier with multiple hyperparameters and using cross validation to get the optimal parameters\n",
        "\n",
        "# Define the parameter grid for RandomForestClassifier\n",
        "param_grid_rf = {\n",
        "    'n_estimators': [50, 100, 200],\n",
        "    'max_depth': [None, 10, 20],\n",
        "    'min_samples_split': [2, 5, 10],\n",
        "    'min_samples_leaf': [1, 2, 4],\n",
        "    'max_features': ['sqrt', 'log2']\n",
        "}\n",
        "\n",
        "# Create the RandomForestClassifier\n",
        "rf_classifier = RandomForestClassifier(random_state=5)\n",
        "\n",
        "# Create the GridSearchCV object for RandomForest\n",
        "grid_search_rf = GridSearchCV(rf_classifier, param_grid_rf, cv=5, scoring='accuracy')\n",
        "\n",
        "# Fit the GridSearchCV object to the training data\n",
        "grid_search_rf.fit(X_train, y_train)\n",
        "\n",
        "# Print the best hyperparameters and best score for RandomForest\n",
        "print(\"Best hyperparameters (Random Forest):\", grid_search_rf.best_params_)\n",
        "print(\"Best cross-validation score (Random Forest):\", grid_search_rf.best_score_)\n",
        "\n",
        "# Evaluate the Random Forest model on the testing set\n",
        "best_rf = grid_search_rf.best_estimator_\n",
        "y_pred_rf = best_rf.predict(X_test)\n",
        "test_accuracy_rf = accuracy_score(y_test, y_pred_rf)\n",
        "print(\"Test Accuracy (Random Forest):\", test_accuracy_rf)"
      ],
      "metadata": {
        "id": "_0ixGDagd8T0"
      },
      "execution_count": null,
      "outputs": []
    },
    {
      "cell_type": "code",
      "source": [
        "recall2 = metrics.recall_score(y_test, y_test_pred)\n",
        "f12 = metrics.f1_score(y_test, y_test_pred)\n",
        "print(\"Recall:\", recall2)\n",
        "print(\"F1 Score:\", f12)"
      ],
      "metadata": {
        "id": "loN1xPKFikKo"
      },
      "execution_count": null,
      "outputs": []
    },
    {
      "cell_type": "code",
      "source": [
        "# Run Random Forest\n",
        "from sklearn.ensemble import RandomForestClassifier\n",
        "rf = RandomForestClassifier(random_state=5, max_depth = None, max_features='sqrt', min_samples_leaf= 1, min_samples_split= 5, n_estimators= 200)\n",
        "model2 = rf.fit(X_train,y_train)\n",
        "# Using the model to predict the results based on the test dataset\n",
        "y_test_pred = model2.predict(X_test)\n",
        "\n",
        "from sklearn import metrics\n",
        "accuracy2 = metrics.accuracy_score(y_test, y_test_pred)\n",
        "precision2 = metrics.precision_score(y_test, y_test_pred)\n",
        "recall2 = metrics.recall_score(y_test, y_test_pred)\n",
        "f12 = metrics.f1_score(y_test, y_test_pred)\n",
        "\n",
        "summary2 = pandas.DataFrame(list(zip(['Accuracy', 'Precision', 'Recall', 'F1'],[accuracy2, precision2, recall2, f12])), columns = ['Metric','Score'])\n",
        "print(summary2)"
      ],
      "metadata": {
        "id": "cCLEzQnGJ_tt"
      },
      "execution_count": null,
      "outputs": []
    },
    {
      "cell_type": "code",
      "source": [
        "print(\"Accuracy:\", accuracy2)\n",
        "print(\"Precision:\", precision2)\n",
        "print(\"Recall:\", recall2)\n",
        "print(\"F1 Score:\", f12)"
      ],
      "metadata": {
        "id": "zBSs15goekUd"
      },
      "execution_count": null,
      "outputs": []
    },
    {
      "cell_type": "markdown",
      "source": [
        "# Gradient Boosting Classifier"
      ],
      "metadata": {
        "id": "UTTWmm16epom"
      }
    },
    {
      "cell_type": "code",
      "source": [
        "# prompt: create a GBM classifier with multiple hyperparameters and using cross validation to get the optimal parameters\n",
        "\n",
        "from sklearn.ensemble import GradientBoostingClassifier\n",
        "\n",
        "# Define the parameter grid for GradientBoostingClassifier\n",
        "param_grid_gbm = {\n",
        "    'n_estimators': [50, 100, 200],\n",
        "    'learning_rate': [0.01, 0.1, 1],\n",
        "    'max_depth': [3, 5, 7],\n",
        "    'min_samples_split': [2, 5, 10],\n",
        "    'min_samples_leaf': [1, 2, 4]\n",
        "    # ,'subsample': [0.8, 0.9, 1.0]\n",
        "}\n",
        "\n",
        "# Create the GradientBoostingClassifier\n",
        "gbm_classifier = GradientBoostingClassifier(random_state=5)\n",
        "\n",
        "# Create the GridSearchCV object for GradientBoosting\n",
        "grid_search_gbm = GridSearchCV(gbm_classifier, param_grid_gbm, cv=5, scoring='accuracy')\n",
        "\n",
        "# Fit the GridSearchCV object to the training data\n",
        "grid_search_gbm.fit(X_train, y_train)\n",
        "\n",
        "# Print the best hyperparameters and best score for GradientBoosting\n",
        "print(\"Best hyperparameters (GBM):\", grid_search_gbm.best_params_)\n",
        "print(\"Best cross-validation score (GBM):\", grid_search_gbm.best_score_)\n",
        "\n",
        "# Evaluate the GBM model on the testing set\n",
        "best_gbm = grid_search_gbm.best_estimator_\n",
        "y_pred_gbm = best_gbm.predict(X_test)\n",
        "test_accuracy_gbm = accuracy_score(y_test, y_pred_gbm)\n",
        "print(\"Test Accuracy (GBM):\", test_accuracy_gbm)\n",
        "\n",
        "#Other metrics\n",
        "from sklearn import metrics\n",
        "recall_gbm = metrics.recall_score(y_test, y_pred_gbm)\n",
        "f1_gbm = metrics.f1_score(y_test, y_pred_gbm)\n",
        "print(\"Recall (GBM):\", recall_gbm)\n",
        "print(\"F1 Score (GBM):\", f1_gbm)"
      ],
      "metadata": {
        "id": "9-NADh9Qi-gR"
      },
      "execution_count": null,
      "outputs": []
    },
    {
      "cell_type": "code",
      "source": [
        "##############################################################################\n",
        "################################### GBM ######################################\n",
        "##############################################################################\n",
        "\n",
        "from sklearn.ensemble import GradientBoostingClassifier\n",
        "gbt = GradientBoostingClassifier(random_state=5, n_estimators = 100)\n",
        "\n",
        "model3 = gbt.fit(X_train, y_train)\n",
        "y_test_pred = model3.predict(X_test)\n",
        "\n",
        "from sklearn import metrics\n",
        "accuracy3 = metrics.accuracy_score(y_test, y_test_pred)\n",
        "precision3 = metrics.precision_score(y_test, y_test_pred)\n",
        "recall3 = metrics.recall_score(y_test, y_test_pred)\n",
        "f13 = metrics.f1_score(y_test, y_test_pred)\n",
        "\n",
        "##############################################################################\n",
        "\n",
        "summary3 = pandas.DataFrame(list(zip(['Accuracy', 'Precision', 'Recall', 'F1'],[accuracy3, precision3, recall3, f13])), columns = ['Metric','Score'])\n",
        "print(summary3)"
      ],
      "metadata": {
        "id": "RbR-GwU8J_pV"
      },
      "execution_count": null,
      "outputs": []
    },
    {
      "cell_type": "markdown",
      "source": [
        "![image.png](data:image/png;base64,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)"
      ],
      "metadata": {
        "id": "fBgBLD9pRg_L"
      }
    },
    {
      "cell_type": "markdown",
      "source": [
        "array(['goal_usd', 'date_diff_years', 'months_diff', 'time_to_launch',\n",
        "       'blurb_len', 'blurb_len_clean', 'video', 'main_category_Food',\n",
        "       'deadline_year', 'deadline_weekday', 'show_feature_image',\n",
        "       'category_Web', 'category_Apparel', 'category_Shorts',\n",
        "       'category_Documentary', 'main_category_Technology',\n",
        "       'category_Accessories', 'category_Country & Folk',\n",
        "       'main_category_Publishing', \"category_Children's Books\",\n",
        "       'category_Mobile Games', 'main_category_Music', 'country_US'],\n",
        "      dtype=object)"
      ],
      "metadata": {
        "id": "CHYmYJKjRmTA"
      }
    },
    {
      "cell_type": "code",
      "source": [
        "\n",
        "# Setup the variables\n",
        "X = kickstarter_df[[\"name_len\",\"blurb_len\"]]\n",
        "y = kickstarter_df[\"state\"]\n",
        "\n",
        "# Split the data\n",
        "from sklearn.model_selection import train_test_split\n",
        "X_train, X_test, y_train, y_test = train_test_split(X, y, test_size = 0.33, random_state = 5)\n",
        "\n",
        "# Build the model\n",
        "decisiontree = DecisionTreeClassifier(max_depth=3)\n",
        "model = decisiontree.fit(X_train, y_train)\n",
        "\n",
        "# Using the model to predict the results based on the test dataset\n",
        "y_test_pred = model.predict(X_test)\n",
        "\n",
        "# Calculate the mean squared error of the prediction\n",
        "from sklearn.metrics import accuracy_score\n",
        "accuracy_score(y_test, y_test_pred)\n",
        "\n",
        "\n",
        "## Grading ##\n",
        "\n",
        "# Import Grading Data\n",
        "kickstarter_grading_df = pandas.read_excel(\"Kickstarter-Grading.xlsx\")\n",
        "\n",
        "# Pre-Process Grading Data\n",
        "kickstarter_grading_df = kickstarter_grading_df.dropna()\n",
        "\n",
        "# Setup the variables\n",
        "X_grading = kickstarter_grading_df[[\"name_len\",\"blurb_len\"]]\n",
        "y_grading = kickstarter_grading_df[\"state\"]\n",
        "\n",
        "# Apply the model previously trained to the grading data\n",
        "y_grading_pred = model.predict(X_grading)\n",
        "\n",
        "# Calculate the accuracy score\n",
        "accuracy_score(y_grading, y_grading_pred)"
      ],
      "metadata": {
        "id": "iC22xx45DQZN"
      },
      "execution_count": null,
      "outputs": []
    },
    {
      "cell_type": "code",
      "source": [],
      "metadata": {
        "id": "KPoo-aNPKnux"
      },
      "execution_count": null,
      "outputs": []
    }
  ]
}